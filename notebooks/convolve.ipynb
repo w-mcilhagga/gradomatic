{
 "cells": [
  {
   "cell_type": "code",
   "execution_count": 12,
   "id": "671a9189",
   "metadata": {},
   "outputs": [],
   "source": [
    "import numpy as np\n",
    "from scipy.signal import correlate, convolve\n",
    "\n",
    "ra = lambda *args: np.random.rand(*args)\n",
    "\n",
    "dims = lambda x: getattr(x, 'ndim', 0)\n",
    "shape = lambda x: getattr(x, 'shape', 0)"
   ]
  },
  {
   "cell_type": "code",
   "execution_count": 2,
   "id": "70c5934f",
   "metadata": {},
   "outputs": [],
   "source": [
    "from itertools import product\n",
    "\n",
    "def corrtensor_valid(a, b, axes=None):\n",
    "    # Works out a tensor A such that \n",
    "    # tensordot(A,b,axes) == tensorcorrel(a,b,axes,mode='valid')\n",
    "    if axes is None:\n",
    "        axes = dims(b)\n",
    "    # corrsz is the size of the b filter over the axes.\n",
    "    corrsz = shape(b)[:axes]\n",
    "    # validshape is the shape of the a*b results over the valid shifts\n",
    "    validshape = np.array(shape(a)[-axes:])-corrsz+1\n",
    "    # create a zero tensor to hold the correlation tensor\n",
    "    # values with mode='valid' which has shape:\n",
    "    # (unused `a` dimensions, validshape, corrsz)\n",
    "    ctensor = np.zeros((*shape(a)[:-axes], *validshape, *corrsz))\n",
    "    # do the loop\n",
    "    nda = dims(a)\n",
    "    a_slice = [slice(None)]*nda\n",
    "    ctensor_slice = [slice(None)]*dims(ctensor)\n",
    "    for indices in product(*[range(c) for c in validshape]):\n",
    "        for i, ai, bi in zip(range(axes), indices, corrsz):\n",
    "            a_slice[nda-axes+i] = slice(ai, ai+bi)\n",
    "            ctensor_slice[nda-axes+i] = ai # nb these singleton indices get compressed\n",
    "        ctensor[tuple(ctensor_slice)] = a[tuple(a_slice)]\n",
    "    return ctensor"
   ]
  },
  {
   "cell_type": "code",
   "execution_count": 3,
   "id": "366e3bf6",
   "metadata": {},
   "outputs": [],
   "source": [
    "def corrtensor_full(a, b, axes=None):\n",
    "    # Works out a tensor A such that \n",
    "    # tensordot(A,b,axes) == tensorcorrel(a,b,axes,mode='full')\n",
    "    if axes is None:\n",
    "        axes = dims(b)\n",
    "    # corrsz is the size of the b filter over the axes.\n",
    "    corrsz = np.array(shape(b)[:axes])\n",
    "    # fullshape is the shape of the a*b results over the full shifts\n",
    "    fullshape = np.array(shape(a)[-axes:])-corrsz+1+2*(corrsz-1)\n",
    "    # create a zero tensor to hold the correlation tensor\n",
    "    # values with mode='full' which has shape:\n",
    "    # (unused `a` dimensions, fullshape, corrsz)\n",
    "    ctensor = np.zeros((*shape(a)[:-axes], *fullshape, *corrsz))\n",
    "    # do the loop\n",
    "    nda = dims(a)\n",
    "    a_slice = [slice(None)]*nda\n",
    "    ctensor_slice = [slice(None)]*dims(ctensor)\n",
    "    for indices in product(*[range(c) for c in fullshape]):\n",
    "        for i, ai, bi in zip(range(axes), indices, corrsz):\n",
    "            # ai is the index into the fullshape & corresponds\n",
    "            # to the a range [ai-bi ... ai] inclusive\n",
    "            # If this falls outside the indices of a in that axis,\n",
    "            # we need to restrict the size of it, and the same within\n",
    "            # the corrsz axes of ctensor\n",
    "            lo = ai-bi\n",
    "            hi = ai\n",
    "            ctensor_slice[nda-axes+i] = ai\n",
    "            if lo<0:\n",
    "                a_slice[nda-axes+i] = slice(0, hi+1)\n",
    "                ctensor_slice[nda+i] = slice(-lo-1, None)\n",
    "            elif hi>=a.shape[nda-axes+i]:\n",
    "                shift = hi-a.shape[nda-axes+i]\n",
    "                a_slice[nda-axes+i] = slice(lo+1, a.shape[nda-axes+i])\n",
    "                ctensor_slice[nda+i] = slice(0, bi-shift-1)\n",
    "            else:\n",
    "                a_slice[nda-axes+i] = slice(lo+1, hi+1)\n",
    "                ctensor_slice[nda+i] = slice(None)\n",
    "        try:\n",
    "            ctensor[tuple(ctensor_slice)] = a[tuple(a_slice)]\n",
    "        except:\n",
    "            print('fail', ctensor_slice, a_slice)\n",
    "    return ctensor"
   ]
  },
  {
   "cell_type": "code",
   "execution_count": 4,
   "id": "6738cc32",
   "metadata": {},
   "outputs": [],
   "source": [
    "def corrtensor_same(a, b, axes=None):\n",
    "    # corrtensor but for mode=same\n",
    "    if axes is None:\n",
    "        axes = dims(b)\n",
    "    # corrsz is the size of the b filter over the axes.\n",
    "    corrsz = np.array(shape(b)[:axes])\n",
    "    # fullshape is the shape of the a*b results over the full shifts\n",
    "    fullshape = np.array(shape(a)[-axes:])-corrsz+1+2*(corrsz-1)\n",
    "    ctensor = corrtensor_full(a, b, axes=axes)\n",
    "    # extract the a-shaped part of ct\n",
    "    ctensor_slice = [slice(None)]*dims(ctensor)\n",
    "    for i in range(dims(a)):\n",
    "        ctsz = ctensor.shape[i]\n",
    "        asz = a.shape[i]\n",
    "        start = (ctsz-asz)//2\n",
    "        ctensor_slice[i] = slice(start, start+asz)\n",
    "    ctensor = ctensor[tuple(ctensor_slice)]\n",
    "    return ctensor\n",
    "    "
   ]
  },
  {
   "cell_type": "code",
   "execution_count": 11,
   "id": "720517ce",
   "metadata": {},
   "outputs": [],
   "source": [
    "def tensorcorrelate(a, v, mode=\"full\", axes=-1):\n",
    "    # tensor correlation\n",
    "    if axes == -1:\n",
    "        axes = dims(v)\n",
    "    if mode == \"full\":\n",
    "        ct = corrtensor_full(a, v, axes)\n",
    "    elif mode == \"same\":\n",
    "        ct = corrtensor_same(a, v, axes)\n",
    "    elif mode == \"valid\":\n",
    "        ct = corrtensor_valid(a, v, axes)\n",
    "    return np.tensordot(ct, v, axes=axes)\n",
    "\n",
    "\n",
    "def tensorconvolve(a, v, mode=\"full\", axes=-1):\n",
    "    # tensor convolution\n",
    "    v = v[tuple([slice(None, None, -1)] * dims(v))]\n",
    "    return tensorcorrelate(a, v, mode=mode, axes=axes)"
   ]
  },
  {
   "cell_type": "code",
   "execution_count": 33,
   "id": "bd23ecd1",
   "metadata": {},
   "outputs": [],
   "source": [
    "def test(sig, filt, mode):\n",
    "    s = correlate(sig, filt, mode=mode)\n",
    "    t = tensorcorrelate(sig, filt, mode=mode)\n",
    "    print(np.all(np.isclose(s,t)))\n",
    "    \n",
    "def test2(sig, filt, mode):\n",
    "    s = convolve(sig, filt, mode=mode)\n",
    "    t = tensorconvolve(sig, filt, mode=mode)\n",
    "    print(np.all(np.isclose(s,t)))"
   ]
  },
  {
   "cell_type": "code",
   "execution_count": 34,
   "id": "6ed41239",
   "metadata": {},
   "outputs": [
    {
     "name": "stdout",
     "output_type": "stream",
     "text": [
      "True\n",
      "True\n",
      "True\n",
      "True\n",
      "True\n",
      "True\n"
     ]
    }
   ],
   "source": [
    "sig = ra(10,5)\n",
    "filt = ra(3,2)\n",
    "test(sig, filt, 'full')\n",
    "test(sig, filt, 'same')\n",
    "test(sig, filt, 'valid')\n",
    "test2(sig, filt, 'full')\n",
    "test2(sig, filt, 'same')\n",
    "test2(sig, filt, 'valid')"
   ]
  },
  {
   "cell_type": "code",
   "execution_count": 35,
   "id": "527dbdef",
   "metadata": {},
   "outputs": [
    {
     "name": "stdout",
     "output_type": "stream",
     "text": [
      "True\n",
      "True\n",
      "True\n",
      "True\n",
      "True\n",
      "True\n"
     ]
    }
   ],
   "source": [
    "sig = ra(10)\n",
    "filt = ra(4)\n",
    "test(sig, filt, 'full')\n",
    "test(sig, filt, 'same')\n",
    "test(sig, filt, 'valid')\n",
    "test2(sig, filt, 'full')\n",
    "test2(sig, filt, 'same')\n",
    "test2(sig, filt, 'valid')"
   ]
  },
  {
   "cell_type": "code",
   "execution_count": 36,
   "id": "b75d648f",
   "metadata": {},
   "outputs": [
    {
     "name": "stdout",
     "output_type": "stream",
     "text": [
      "True\n",
      "True\n",
      "True\n",
      "True\n",
      "True\n",
      "True\n"
     ]
    }
   ],
   "source": [
    "sig = ra(10,10,5)\n",
    "filt = ra(3,3,2)\n",
    "test(sig, filt, 'full')\n",
    "test(sig, filt, 'same')\n",
    "test(sig, filt, 'valid')\n",
    "test2(sig, filt, 'full')\n",
    "test2(sig, filt, 'same')\n",
    "test2(sig, filt, 'valid')"
   ]
  },
  {
   "cell_type": "code",
   "execution_count": 38,
   "id": "d7642f40",
   "metadata": {},
   "outputs": [
    {
     "name": "stdout",
     "output_type": "stream",
     "text": [
      "True\n",
      "True\n",
      "True\n",
      "True\n",
      "True\n",
      "True\n",
      "True\n",
      "True\n",
      "True\n",
      "True\n",
      "True\n",
      "True\n",
      "True\n",
      "True\n",
      "True\n",
      "True\n",
      "True\n",
      "True\n",
      "True\n",
      "True\n"
     ]
    }
   ],
   "source": [
    "sig = ra(10,10,5)\n",
    "filt = ra(3,2)\n",
    "\n",
    "t = tensorcorrelate(sig, filt, axes=dims(filt))\n",
    "for i in range(sig.shape[0]):\n",
    "    s = correlate(sig[i], filt, mode='full')\n",
    "    print(np.all(np.isclose(s,t[i])))\n",
    "    \n",
    "t = tensorconvolve(sig, filt, axes=dims(filt))\n",
    "for i in range(sig.shape[0]):\n",
    "    s = convolve(sig[i], filt, mode='full')\n",
    "    print(np.all(np.isclose(s,t[i])))"
   ]
  }
 ],
 "metadata": {
  "kernelspec": {
   "display_name": "Python 3 (ipykernel)",
   "language": "python",
   "name": "python3"
  },
  "language_info": {
   "codemirror_mode": {
    "name": "ipython",
    "version": 3
   },
   "file_extension": ".py",
   "mimetype": "text/x-python",
   "name": "python",
   "nbconvert_exporter": "python",
   "pygments_lexer": "ipython3",
   "version": "3.9.16"
  }
 },
 "nbformat": 4,
 "nbformat_minor": 5
}
