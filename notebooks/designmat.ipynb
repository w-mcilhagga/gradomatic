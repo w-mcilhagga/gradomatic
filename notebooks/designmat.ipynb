{
 "cells": [
  {
   "cell_type": "markdown",
   "id": "d7b377d6",
   "metadata": {},
   "source": [
    "## Design matrices\n",
    "\n",
    "want to have a simple formula-like system where you can say\n",
    "\n",
    "```\n",
    "Design(1+V(x)+V(y**2)+C(a)+C(a)&C(b)+C(d)*C(e)+V(x)%C(a))\n",
    "```\n",
    "and a design matrix will be built from it.\n",
    "\n",
    "C is main effect (factor), V is variate, 1 is the intercept, * does main effects % just interactions\n"
   ]
  },
  {
   "cell_type": "code",
   "execution_count": 229,
   "id": "a2c8cddd",
   "metadata": {},
   "outputs": [],
   "source": [
    "class Term:\n",
    "    def __init__(self, value):\n",
    "        self.value = value\n",
    "        \n",
    "    def __add__(self, other):\n",
    "        return Sum(self, asterm(other))\n",
    "    \n",
    "    def __radd__(self, other):\n",
    "        return Sum(asterm(other), self)\n",
    "    \n",
    "    def __mod__(self, other):\n",
    "        M = Interaction(self, asterm(other))\n",
    "        return M if len(M.value)>1 else M.value[0]\n",
    "    \n",
    "    def __mul__(self, other):\n",
    "        other = asterm(other)\n",
    "        return self+other+self%other\n",
    "    \n",
    "    def __pow__(self, n):\n",
    "        s = self\n",
    "        for i in range(1, n):\n",
    "            s = s*self\n",
    "        return s\n",
    "    \n",
    "    def __eq__(self, other):\n",
    "        return self.__class__ == other.__class__ and self.value == other.value\n",
    "    \n",
    "    def __lt__(self, other):\n",
    "        if self.__class__ != other.__class__: \n",
    "            if isinstance(self, V): return True # VC or VI\n",
    "            if isinstance(self, Interaction): return False # IC or IV\n",
    "            if isinstance(other, V): return False # CV\n",
    "            return True # CI\n",
    "        return self.value<other.value\n",
    "    \n",
    "def listif(x, cls):\n",
    "    return x.value if isinstance(x, cls) else [x]\n",
    "\n",
    "def asterm(x):\n",
    "    return x if isinstance(x, Term) else Term(x)\n",
    "    \n",
    "class Sum(Term):\n",
    "    def __init__(self, a, b):\n",
    "        # sum flattens sums\n",
    "        values = unique(listif(a, Sum)+listif(b, Sum))\n",
    "        super().__init__(values)\n",
    "        \n",
    "    def __mod__(self, other):\n",
    "        # distribute the interaction over sums\n",
    "        if isinstance(other, Sum):\n",
    "            values = [a%b for a in self.value for b in other.value]\n",
    "        else:\n",
    "            values = [a%other for a in self.value]\n",
    "        s = values[0]+values[1]\n",
    "        for v in values[2:]:\n",
    "            s = s+v\n",
    "        return s\n",
    "        \n",
    "    def __eq__(self, other):\n",
    "        return self.__class__ == other.__class__ and sorted(self.value) == sorted(other.value)\n",
    "    \n",
    "    \n",
    "class V(Term):\n",
    "    pass\n",
    "\n",
    "class C(Term):\n",
    "    pass\n",
    "        \n",
    "def unique(x):\n",
    "    y = []\n",
    "    for a in x:\n",
    "        if a not in y:\n",
    "            y.append(a)\n",
    "    return y\n",
    "\n",
    "class Interaction(Term):\n",
    "    def __init__(self, a, b):\n",
    "        values = unique(listif(a, Interaction)+listif(b, Interaction))\n",
    "        super().__init__(values)\n",
    "\n",
    "    def __eq__(self, other):\n",
    "        return self.__class__ == other.__class__ and sorted(self.value) == sorted(other.value)\n",
    "    "
   ]
  },
  {
   "cell_type": "code",
   "execution_count": 230,
   "id": "aa796b8f",
   "metadata": {},
   "outputs": [
    {
     "data": {
      "text/plain": [
       "[<__main__.Term at 0x23fd50f3340>,\n",
       " <__main__.Interaction at 0x23fd50f32e0>,\n",
       " <__main__.Interaction at 0x23fd50f3640>,\n",
       " <__main__.Interaction at 0x23fd50f3580>]"
      ]
     },
     "execution_count": 230,
     "metadata": {},
     "output_type": "execute_result"
    }
   ],
   "source": [
    "import numpy as np\n",
    "a,b,c,d = 'abcd'\n",
    "\n",
    "(1+C(c)*V(d)%V(a)).value"
   ]
  },
  {
   "cell_type": "code",
   "execution_count": 226,
   "id": "5e53116a",
   "metadata": {},
   "outputs": [],
   "source": [
    "def printexpr(E):\n",
    "    if isinstance(E, Sum):\n",
    "        return '+'.join(map(printexpr, E.value))\n",
    "    if isinstance(E, Interaction):\n",
    "        return '%'.join(map(printexpr, E.value))\n",
    "    return E.__class__.__name__+'('+str(E.value)+')'"
   ]
  },
  {
   "cell_type": "code",
   "execution_count": 237,
   "id": "de3b60b3",
   "metadata": {},
   "outputs": [
    {
     "data": {
      "text/plain": [
       "'Term(-1)+Term(1)+C(c)+V(a)+V(b)+Term(1)%V(b)+C(c)%V(b)+V(a)%V(b)'"
      ]
     },
     "execution_count": 237,
     "metadata": {},
     "output_type": "execute_result"
    }
   ],
   "source": [
    "printexpr(-1+(1+C(c)+V(a))*V(b))"
   ]
  },
  {
   "cell_type": "code",
   "execution_count": 228,
   "id": "cdfffef6",
   "metadata": {},
   "outputs": [
    {
     "data": {
      "text/plain": [
       "'C(a)+C(b)+V(d)+C(a)%C(b)+C(a)%V(d)+C(b)%V(d)+C(a)%C(b)%V(d)'"
      ]
     },
     "execution_count": 228,
     "metadata": {},
     "output_type": "execute_result"
    }
   ],
   "source": [
    "printexpr((C(a)+C(b) +V(d))**3)"
   ]
  },
  {
   "cell_type": "code",
   "execution_count": null,
   "id": "2fbecd30",
   "metadata": {},
   "outputs": [],
   "source": []
  }
 ],
 "metadata": {
  "kernelspec": {
   "display_name": "Python 3 (ipykernel)",
   "language": "python",
   "name": "python3"
  },
  "language_info": {
   "codemirror_mode": {
    "name": "ipython",
    "version": 3
   },
   "file_extension": ".py",
   "mimetype": "text/x-python",
   "name": "python",
   "nbconvert_exporter": "python",
   "pygments_lexer": "ipython3",
   "version": "3.9.16"
  }
 },
 "nbformat": 4,
 "nbformat_minor": 5
}
