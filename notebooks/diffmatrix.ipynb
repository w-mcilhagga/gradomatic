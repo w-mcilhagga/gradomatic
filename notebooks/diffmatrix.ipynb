{
 "cells": [
  {
   "cell_type": "markdown",
   "id": "903a5956",
   "metadata": {},
   "source": [
    "Code to create a matrix version of np.diff, with automatic zero padding."
   ]
  },
  {
   "cell_type": "code",
   "execution_count": 1,
   "id": "b9e49fae",
   "metadata": {},
   "outputs": [],
   "source": [
    "import numpy as np\n",
    "ra = lambda *args: np.random.rand(*args)\n",
    "\n",
    "x = ra(10)"
   ]
  },
  {
   "cell_type": "code",
   "execution_count": 11,
   "id": "924d433f",
   "metadata": {},
   "outputs": [],
   "source": [
    "from scipy.linalg import toeplitz\n",
    "\n",
    "def diffmat(d, n=1, pad=False, npcompat=True):\n",
    "    # creates a diff matrix for n fold diff, padding with zeros\n",
    "    #\n",
    "    # d : size of axis to differentiate\n",
    "    # n: number of times to differentiate\n",
    "    # pad: pad with zeros\n",
    "    # npcompat: if True, pads with zeros once (numpy behaviour when pre/append=0.0). \n",
    "    #    If false, pads every time the derivative is taken.\n",
    "    d_impulse = np.diff(np.array([*[0]*n, 1.0, *[0]*n ]), n=n)\n",
    "    col = np.zeros((d+n,))\n",
    "    col[:n+1]=d_impulse\n",
    "    row = np.zeros((d,))\n",
    "    row[0] = col[0]\n",
    "    dmat = toeplitz(col, row)\n",
    "    if not pad:\n",
    "        dmat = dmat[n:d]\n",
    "    elif npcompat:\n",
    "        # we have to remove some rows of dmat\n",
    "        dmat = dmat[n-1:dmat.shape[0]-(n-1)]\n",
    "    return dmat\n",
    "\n",
    "shape = lambda x:getattr(x, 'shape', ())\n",
    "dims = lambda x:getattr(x, 'ndim', 0)\n",
    "\n",
    "def diff(x, n=1, axis=-1, pad=False, npcompat=True):\n",
    "    # a variant of np.diff using a matrix, with more padding\n",
    "    # but only with zeros\n",
    "    nd = dims(x)\n",
    "    dmat = diffmat(shape(x)[axis], n=n, pad=pad, npcompat=npcompat)\n",
    "    didx = 'ijklmnopqrstuvwxyz'[:2]\n",
    "    idx = 'ijklmnopqrstuvwxyz'[2:nd+2]\n",
    "    idx = idx.replace(idx[axis],didx[1])\n",
    "    result = idx.replace(idx[axis],didx[0])\n",
    "    return np.einsum(didx+','+idx+'->'+result, dmat, x)"
   ]
  },
  {
   "cell_type": "code",
   "execution_count": 12,
   "id": "80d199d8",
   "metadata": {},
   "outputs": [
    {
     "name": "stdout",
     "output_type": "stream",
     "text": [
      "True\n",
      "True\n"
     ]
    }
   ],
   "source": [
    "# n=1\n",
    "x = ra(10)\n",
    "a = np.diff(x)\n",
    "b = diff(x, pad=False)\n",
    "print(np.all(np.isclose(a,b)))\n",
    "a = np.diff(x, prepend=0.0, append=0.0)\n",
    "b = diff(x, pad=True)\n",
    "print(np.all(np.isclose(a,b)))"
   ]
  },
  {
   "cell_type": "code",
   "execution_count": 13,
   "id": "e361b0ee",
   "metadata": {},
   "outputs": [
    {
     "name": "stdout",
     "output_type": "stream",
     "text": [
      "True\n",
      "True\n"
     ]
    }
   ],
   "source": [
    "# n=2\n",
    "a = np.diff(x, n=2)\n",
    "b = diff(x, n=2, pad=False)\n",
    "print(np.all(np.isclose(a,b)))\n",
    "a = np.diff(x, n=2, prepend=0.0, append=0.0)\n",
    "b = diff(x, n=2, pad=True)\n",
    "print(np.all(np.isclose(a,b)))"
   ]
  },
  {
   "cell_type": "code",
   "execution_count": 14,
   "id": "fa08f770",
   "metadata": {},
   "outputs": [
    {
     "name": "stdout",
     "output_type": "stream",
     "text": [
      "True\n",
      "True\n"
     ]
    }
   ],
   "source": [
    "# n=3\n",
    "a = np.diff(x, n=3)\n",
    "b = diff(x, n=3, pad=False)\n",
    "print(np.all(np.isclose(a,b)))\n",
    "a = np.diff(x, n=3, prepend=0.0, append=0.0)\n",
    "b = diff(x, n=3, pad=True)\n",
    "print(np.all(np.isclose(a,b)))"
   ]
  },
  {
   "cell_type": "code",
   "execution_count": 15,
   "id": "f1c58798",
   "metadata": {},
   "outputs": [
    {
     "name": "stdout",
     "output_type": "stream",
     "text": [
      "True\n",
      "True\n"
     ]
    }
   ],
   "source": [
    "x = ra(10,6)\n",
    "a = np.diff(x, n=1, axis=1)\n",
    "b = diff(x, n=1, axis=1, pad=False)\n",
    "print(np.all(np.isclose(a,b)))\n",
    "a = np.diff(x, n=1, axis=1, prepend=0.0, append=0.0)\n",
    "b = diff(x, n=1, axis=1, pad=True)\n",
    "print(np.all(np.isclose(a,b)))"
   ]
  },
  {
   "cell_type": "code",
   "execution_count": null,
   "id": "3150114a",
   "metadata": {},
   "outputs": [],
   "source": []
  },
  {
   "cell_type": "code",
   "execution_count": null,
   "id": "57c24c1d",
   "metadata": {},
   "outputs": [],
   "source": []
  }
 ],
 "metadata": {
  "kernelspec": {
   "display_name": "Python 3 (ipykernel)",
   "language": "python",
   "name": "python3"
  },
  "language_info": {
   "codemirror_mode": {
    "name": "ipython",
    "version": 3
   },
   "file_extension": ".py",
   "mimetype": "text/x-python",
   "name": "python",
   "nbconvert_exporter": "python",
   "pygments_lexer": "ipython3",
   "version": "3.9.16"
  }
 },
 "nbformat": 4,
 "nbformat_minor": 5
}
