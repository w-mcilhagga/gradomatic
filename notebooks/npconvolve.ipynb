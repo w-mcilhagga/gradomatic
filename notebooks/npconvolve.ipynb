{
 "cells": [
  {
   "cell_type": "markdown",
   "id": "59780660",
   "metadata": {},
   "source": [
    "Implemetation of numpy correlate and convolve"
   ]
  },
  {
   "cell_type": "code",
   "execution_count": 1,
   "id": "45156a5d",
   "metadata": {},
   "outputs": [],
   "source": [
    "import numpy as np\n",
    "\n",
    "ra = lambda *args: np.random.rand(*args)\n",
    "\n",
    "dims = lambda x: getattr(x, 'ndim', 0)\n",
    "shape = lambda x: getattr(x, 'shape', 0)"
   ]
  },
  {
   "cell_type": "code",
   "execution_count": 125,
   "id": "eb155980",
   "metadata": {},
   "outputs": [],
   "source": [
    "sig = ra(10)\n",
    "filt = ra(4)\n",
    "\n",
    "def check(a,b):\n",
    "    return np.all(np.isclose(a,b))"
   ]
  },
  {
   "cell_type": "code",
   "execution_count": 117,
   "id": "2edb5ce2",
   "metadata": {},
   "outputs": [],
   "source": [
    "def np_correlate(a, v, mode='valid'):\n",
    "    # pad a if mode is same or full\n",
    "    vlen = len(v)\n",
    "    if mode=='full':\n",
    "        pad = [0.0]*(vlen-1)\n",
    "        pad2 = [0.0]*(vlen)\n",
    "        a = np.hstack( (pad, a, pad))\n",
    "    if mode=='same':\n",
    "        pad1 = [0.0]*(vlen//2)\n",
    "        pad2 = [0.0]*(vlen-vlen//2-1)\n",
    "        a = np.hstack( (pad1, a, pad2))\n",
    "    result = []\n",
    "    for i in range(len(a)-len(v)+1):\n",
    "        result.append(np.sum(a[i:i+vlen]*v))\n",
    "    return np.hstack(result)\n",
    "\n",
    "def np_convolve(a, v, mode='full'):\n",
    "    return np_correlate(a, v[::-1], mode=mode)"
   ]
  },
  {
   "cell_type": "code",
   "execution_count": 126,
   "id": "fe0d1c55",
   "metadata": {},
   "outputs": [
    {
     "data": {
      "text/plain": [
       "True"
      ]
     },
     "execution_count": 126,
     "metadata": {},
     "output_type": "execute_result"
    }
   ],
   "source": [
    "check(np_correlate(sig, filt, mode='same'), np.correlate(sig, filt, mode='same'))"
   ]
  },
  {
   "cell_type": "code",
   "execution_count": 127,
   "id": "7a89b4e5",
   "metadata": {},
   "outputs": [
    {
     "data": {
      "text/plain": [
       "True"
      ]
     },
     "execution_count": 127,
     "metadata": {},
     "output_type": "execute_result"
    }
   ],
   "source": [
    "check(np_correlate(sig, filt, mode='full'), np.correlate(sig, filt, mode='full'))"
   ]
  },
  {
   "cell_type": "code",
   "execution_count": 128,
   "id": "bea1171e",
   "metadata": {},
   "outputs": [
    {
     "data": {
      "text/plain": [
       "True"
      ]
     },
     "execution_count": 128,
     "metadata": {},
     "output_type": "execute_result"
    }
   ],
   "source": [
    "check(np_correlate(sig, filt, mode='valid'), np.correlate(sig, filt, mode='valid'))"
   ]
  },
  {
   "cell_type": "code",
   "execution_count": 129,
   "id": "ad3c630c",
   "metadata": {},
   "outputs": [
    {
     "data": {
      "text/plain": [
       "True"
      ]
     },
     "execution_count": 129,
     "metadata": {},
     "output_type": "execute_result"
    }
   ],
   "source": [
    "check(np_convolve(sig, filt, mode='same'), np.convolve(sig, filt, mode='same'))"
   ]
  },
  {
   "cell_type": "code",
   "execution_count": 130,
   "id": "3ed5c3d6",
   "metadata": {},
   "outputs": [
    {
     "data": {
      "text/plain": [
       "True"
      ]
     },
     "execution_count": 130,
     "metadata": {},
     "output_type": "execute_result"
    }
   ],
   "source": [
    "check(np_convolve(sig, filt, mode='full'), np.convolve(sig, filt, mode='full'))"
   ]
  },
  {
   "cell_type": "code",
   "execution_count": 131,
   "id": "56feffb0",
   "metadata": {},
   "outputs": [
    {
     "data": {
      "text/plain": [
       "True"
      ]
     },
     "execution_count": 131,
     "metadata": {},
     "output_type": "execute_result"
    }
   ],
   "source": [
    "check(np_convolve(sig, filt, mode='valid'), np.convolve(sig, filt, mode='valid'))"
   ]
  },
  {
   "cell_type": "code",
   "execution_count": null,
   "id": "6d4f1bcc",
   "metadata": {},
   "outputs": [],
   "source": []
  }
 ],
 "metadata": {
  "kernelspec": {
   "display_name": "Python 3 (ipykernel)",
   "language": "python",
   "name": "python3"
  },
  "language_info": {
   "codemirror_mode": {
    "name": "ipython",
    "version": 3
   },
   "file_extension": ".py",
   "mimetype": "text/x-python",
   "name": "python",
   "nbconvert_exporter": "python",
   "pygments_lexer": "ipython3",
   "version": "3.9.16"
  }
 },
 "nbformat": 4,
 "nbformat_minor": 5
}
