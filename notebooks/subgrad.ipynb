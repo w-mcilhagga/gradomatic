{
 "cells": [
  {
   "cell_type": "markdown",
   "id": "b7c5ead6",
   "metadata": {},
   "source": [
    "## Subgradients"
   ]
  },
  {
   "cell_type": "code",
   "execution_count": 33,
   "id": "5a297114",
   "metadata": {},
   "outputs": [],
   "source": [
    "import numpy as np\n",
    "\n",
    "class Subgrad:\n",
    "\n",
    "    @staticmethod\n",
    "    def isgrad(n):\n",
    "        \"\"\"checks if a subgrad object n is really a grad\"\"\"\n",
    "        return Subgrad.issubgrad(n) and not np.all(np.isclose(n.lo, n.hi))\n",
    "\n",
    "    @staticmethod\n",
    "    def issubgrad(n):\n",
    "        # checks if an object is a subgrad\n",
    "        return isinstance(n, Subgrad)\n",
    "    \n",
    "    def __init__(self, a, b):\n",
    "        # [a,b] is an interval\n",
    "        self.lo = np.minimum(a, b)\n",
    "        self.hi = np.maximum(a, b)\n",
    "\n",
    "    # operator overrides for operations involving python objects\n",
    "\n",
    "    def __add__(self, other):\n",
    "        return np.add(self, other)\n",
    "\n",
    "    def __radd__(self, other):\n",
    "        return np.add(other, self)\n",
    "\n",
    "    def __sub__(self, other):\n",
    "        return np.subtract(self, other)\n",
    "\n",
    "    def __rsub__(self, other):\n",
    "        return np.subtract(other, self)\n",
    "\n",
    "    def __mul__(self, other):\n",
    "        return np.multiply(self, other)\n",
    "\n",
    "    def __rmul__(self, other):\n",
    "        return np.multiply(other, self)\n",
    "\n",
    "    def __truediv__(self, other):\n",
    "        return np.true_divide(self, other)\n",
    "\n",
    "    def __rtruediv__(self, other):\n",
    "        return np.true_divide(other, self)\n",
    "\n",
    "    def __neg__(self):\n",
    "        return np.negative(self)\n",
    "\n",
    "    #def __matmul__(self, other):\n",
    "    #    return np.matmul(self, other)\n",
    "\n",
    "    #def __rmatmul__(self, other):\n",
    "    #    return np.matmul(other, self)\n",
    "\n",
    "    def __pow__(self, other):\n",
    "        return np.power(self, other)\n",
    "\n",
    "    def __rpow__(self, other):\n",
    "        return np.power(other, self)\n",
    "\n",
    "    def __getitem__(self, key):\n",
    "        return checksubgrad(Subgrad(self.lo[index], self.hi[index]))\n",
    "\n",
    "    def __hash__(self):\n",
    "        # required because __eq__ was overridden\n",
    "        return id(self)\n",
    "\n",
    "    def __len__(self):\n",
    "        return self.lo.shape[0]\n",
    "\n",
    "    def asarray(self):\n",
    "        # converts to a numpy array - if bracketing zero, returns zero,\n",
    "        # otherwise returns the value closest to zero.\n",
    "        #z = np.logical_and(self.lo<=0, self.hi>=0)\n",
    "        pos = np.logical_and(self.lo>0, self.hi>0)\n",
    "        neg = np.logical_and(self.lo<0, self.hi<0)\n",
    "        arr = np.zeros(self.lo.shape)\n",
    "        arr[pos] = np.minimum(self.lo[pos], self.hi[pos])\n",
    "        arr[neg] = np.maximum(self.lo[neg], self.hi[neg])\n",
    "        return arr\n",
    "    \n",
    "    # numpy dispatch for when one of the objects is a numpy array\n",
    "\n",
    "    handled_funcs = {}\n",
    "\n",
    "    def __array_ufunc__(self, ufunc, method, *args, **kwargs):\n",
    "        # dispatcher for numpy ufuncs\n",
    "        if method != \"__call__\" or ufunc not in self.handled_funcs:\n",
    "            return NotImplemented\n",
    "        s = self.handled_funcs[ufunc](*args, **kwargs)\n",
    "        return s\n",
    "\n",
    "    def __array_function__(self, func, types, args, kwargs):\n",
    "        # dispatcher for other numpy funcs\n",
    "        if func not in self.handled_funcs:\n",
    "            return NotImplemented\n",
    "        return self.handled_funcs[func](*args, **kwargs)\n",
    "\n",
    "    @classmethod\n",
    "    def add_handler(cls, f, g):\n",
    "        # declares that we should use g when numpy function f is called\n",
    "        cls.handled_funcs[f] = g\n",
    "\n",
    "    @classmethod\n",
    "    def register_handler(cls, *flist):\n",
    "        # a decorator for add_handler\n",
    "        def decorator(g):\n",
    "            for f in flist:\n",
    "                cls.add_handler(f, g)\n",
    "            return g\n",
    "\n",
    "        return decorator\n",
    "    \n",
    "def makegrad(low, high):\n",
    "    if np.all(np.isclose(low, high)):\n",
    "        return (low+high)/2.0\n",
    "    return Subgrad(low, high)\n",
    "\n",
    "@Subgrad.register_handler(np.add)\n",
    "def s_add(a,b):\n",
    "    # either a, b or both are subgrads\n",
    "    if not Subgrad.issubgrad(a):\n",
    "        a = Subgrad(a,a)\n",
    "    if not Subgrad.issubgrad(b):\n",
    "        b = Subgrad(b,b)\n",
    "    return makegrad(a.lo+b.lo, a.hi+b.hi)\n",
    "\n",
    "@Subgrad.register_handler(np.subtract)\n",
    "def s_subtract(a,b):\n",
    "    # either a, b or both are subgrads\n",
    "    if not Subgrad.issubgrad(a):\n",
    "        a = Subgrad(a,a)\n",
    "    if not Subgrad.issubgrad(b):\n",
    "        b = Subgrad(b,b)\n",
    "    return makegrad(a.lo-b.lo, a.hi-b.hi)\n",
    "\n",
    "@Subgrad.register_handler(np.multiply)\n",
    "def s_mul(a,b):\n",
    "    # either a, b or both are subgrads\n",
    "    if not Subgrad.issubgrad(a):\n",
    "        a = Subgrad(a,a)\n",
    "    if not Subgrad.issubgrad(b):\n",
    "        b = Subgrad(b,b)\n",
    "    return makegrad(a.lo*b.lo, a.hi*b.hi)\n",
    "\n",
    "@Subgrad.register_handler(np.true_divide)\n",
    "def s_div(a,b):\n",
    "    # either a, b or both are subgrads\n",
    "    if not Subgrad.issubgrad(a):\n",
    "        a = Subgrad(a,a)\n",
    "    if not Subgrad.issubgrad(b):\n",
    "        b = Subgrad(b,b)\n",
    "    return makegrad(a.lo/b.lo, a.hi/b.hi)\n",
    "\n",
    "@Subgrad.register_handler(np.power)\n",
    "def s_pow(a,b):\n",
    "    # either a, b or both are subgrads\n",
    "    if not Subgrad.issubgrad(a):\n",
    "        a = Subgrad(a,a)\n",
    "    if not Subgrad.issubgrad(b):\n",
    "        b = Subgrad(b,b)\n",
    "    return makegrad(a.lo**b.lo, a.hi**b.hi)\n",
    "\n",
    "@Subgrad.register_handler(np.negative)\n",
    "def s_neg(a):\n",
    "    return makegrad(-a.hi, -a.lo)\n",
    "\n",
    "@Subgrad.register_handler(np.einsum)\n",
    "def s_einsum(script, *args, **kwargs):\n",
    "    # an implementation, but probably not the right one.\n",
    "    args = list(args)\n",
    "    argno = next(filter(lambda p:Subgrad.issubgrad(p[1]), enumerate(args)))[0]\n",
    "    sg = args[argno]\n",
    "    args[argno] = sg.lo\n",
    "    low = np.einsum(script, *args, **kwargs)\n",
    "    args[argno] = sg.hi\n",
    "    high = np.einsum(script, *args, **kwargs)\n",
    "    return makegrad(low, high)"
   ]
  },
  {
   "cell_type": "code",
   "execution_count": 34,
   "id": "b144cdac",
   "metadata": {},
   "outputs": [],
   "source": [
    "def signum(x):\n",
    "    # returns the subgrad of x\n",
    "    sx = np.sign(x)\n",
    "    return checkgrad(Subgrad(sx-(sx==0), sx+(sx==0)))"
   ]
  },
  {
   "cell_type": "code",
   "execution_count": 35,
   "id": "d7ee1729",
   "metadata": {},
   "outputs": [
    {
     "name": "stdout",
     "output_type": "stream",
     "text": [
      "[[-0.38727514 -0.28293737 -0.42628357]\n",
      " [-0.01676693 -0.39502261  0.08172636]\n",
      " [-0.42022176 -0.26813727 -0.46024249]\n",
      " [ 0.30553014 -0.16954448 -0.3729303 ]\n",
      " [-0.29856692 -0.25641069 -0.15775383]] [[ 0.32750003 -0.17066457  0.23939905]\n",
      " [ 0.34529866  0.15906345  0.17870628]\n",
      " [ 0.31737748  0.15121364 -0.03296226]\n",
      " [ 0.45714458  0.49838624 -0.160484  ]\n",
      " [ 0.01566267 -0.09608916  0.04633206]]\n"
     ]
    }
   ],
   "source": [
    "ra = lambda *args: np.random.rand(*args)-0.5\n",
    "\n",
    "a = ra(5,3)\n",
    "b = ra(5,3)\n",
    "n = Subgrad(np.minimum(a,b), np.maximum(a,b))\n",
    "m = n-2*n\n",
    "print(m.lo, m.hi)"
   ]
  },
  {
   "cell_type": "code",
   "execution_count": 36,
   "id": "9a716281",
   "metadata": {},
   "outputs": [
    {
     "data": {
      "text/plain": [
       "array([-1.,  1.,  1., -1., -1.,  1.,  1.,  1., -1., -1.])"
      ]
     },
     "execution_count": 36,
     "metadata": {},
     "output_type": "execute_result"
    }
   ],
   "source": [
    "a = ra(10)\n",
    "a[0] = -0\n",
    "\n",
    "n = signum(a)\n",
    "n.lo"
   ]
  },
  {
   "cell_type": "code",
   "execution_count": 37,
   "id": "aef556d9",
   "metadata": {},
   "outputs": [
    {
     "data": {
      "text/plain": [
       "array([ 1.,  1.,  1., -1., -1.,  1.,  1.,  1., -1., -1.])"
      ]
     },
     "execution_count": 37,
     "metadata": {},
     "output_type": "execute_result"
    }
   ],
   "source": [
    "n.hi"
   ]
  },
  {
   "cell_type": "code",
   "execution_count": 38,
   "id": "57c6ffd1",
   "metadata": {},
   "outputs": [],
   "source": [
    "m=np.einsum('i->', n)"
   ]
  },
  {
   "cell_type": "code",
   "execution_count": null,
   "id": "08186c9a",
   "metadata": {},
   "outputs": [],
   "source": []
  }
 ],
 "metadata": {
  "kernelspec": {
   "display_name": "Python 3 (ipykernel)",
   "language": "python",
   "name": "python3"
  },
  "language_info": {
   "codemirror_mode": {
    "name": "ipython",
    "version": 3
   },
   "file_extension": ".py",
   "mimetype": "text/x-python",
   "name": "python",
   "nbconvert_exporter": "python",
   "pygments_lexer": "ipython3",
   "version": "3.9.16"
  }
 },
 "nbformat": 4,
 "nbformat_minor": 5
}
